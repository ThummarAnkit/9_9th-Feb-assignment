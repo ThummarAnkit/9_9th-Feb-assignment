{
 "cells": [
  {
   "cell_type": "markdown",
   "id": "0fd036b6",
   "metadata": {},
   "source": [
    "# Q1. Create a vehicle class with an init method having instance variables as name_of_vehicle, max_speed and average_of_vehicle."
   ]
  },
  {
   "cell_type": "code",
   "execution_count": 1,
   "id": "0b911876",
   "metadata": {},
   "outputs": [
    {
     "data": {
      "text/plain": [
       "<__main__.vehicle at 0x153dad6bf70>"
      ]
     },
     "execution_count": 1,
     "metadata": {},
     "output_type": "execute_result"
    }
   ],
   "source": [
    "class vehicle:\n",
    "    \n",
    "    def __init__(self, name_of_vehicle, max_speed, average_of_vehicle):\n",
    "        \n",
    "        self.name_of_vehicle = name_of_vehicle\n",
    "        self.max_speed = max_speed\n",
    "        self.average_of_vehicle = average_of_vehicle\n",
    "        \n",
    "obj_vehicle = vehicle(\"car\", 150, 35)\n",
    "obj_vehicle"
   ]
  },
  {
   "cell_type": "markdown",
   "id": "a4d246ac",
   "metadata": {},
   "source": [
    "# Q2. Create a child class car from the vehicle class created in Que 1, which will inherit the vehicle class. Create a method named seating_capacity which takes capacity as an argument and returns the name of the vehicle and its seating capacity."
   ]
  },
  {
   "cell_type": "code",
   "execution_count": 2,
   "id": "b93307ef",
   "metadata": {},
   "outputs": [
    {
     "name": "stdout",
     "output_type": "stream",
     "text": [
      "name of vehicle is car, it's seating capacity is 5\n"
     ]
    }
   ],
   "source": [
    "class car(vehicle):\n",
    "    def seating_capacity(self, capacity):\n",
    "        self.capacity = capacity\n",
    "        return self.name_of_vehicle, self.capacity\n",
    "\n",
    "obj_car = car(\"car\", 150, 35)\n",
    "name,no_of_seat = obj_car.seating_capacity(5)\n",
    "\n",
    "print(f\"name of vehicle is {name}, it's seating capacity is {no_of_seat}\")"
   ]
  },
  {
   "cell_type": "markdown",
   "id": "b6508223",
   "metadata": {},
   "source": [
    "# Q3. What is multiple inheritance? Write a python code to demonstrate multiple inheritance."
   ]
  },
  {
   "cell_type": "markdown",
   "id": "5316cfe6",
   "metadata": {},
   "source": [
    "__Ans :__\n",
    "When a class is derived from more than one base class it is called multiple Inheritance. The derived class inherits all the features of the base case."
   ]
  },
  {
   "cell_type": "code",
   "execution_count": 3,
   "id": "43599465",
   "metadata": {},
   "outputs": [
    {
     "name": "stdout",
     "output_type": "stream",
     "text": [
      "In class1\n",
      "In class2\n"
     ]
    }
   ],
   "source": [
    "class Class1:   \n",
    "    def c1(self):\n",
    "        print(\"In class1\")\n",
    "\n",
    "class Class2:\n",
    "    def c2(self):\n",
    "        print(\"In class2\")\n",
    "        \n",
    "class Class3(Class1,Class2):\n",
    "    pass\n",
    "\n",
    "obj_Class3 = Class3()\n",
    "obj_Class3.c1()\n",
    "obj_Class3.c2()"
   ]
  },
  {
   "cell_type": "markdown",
   "id": "115dbb36",
   "metadata": {},
   "source": [
    "# Q4. What are getter and setter in python? Create a class and create a getter and a setter method in this class."
   ]
  },
  {
   "cell_type": "markdown",
   "id": "2139b522",
   "metadata": {},
   "source": [
    "__Ans :__<br>\n",
    "\n",
    "__Getter :__ A method that allows you to access an attribute in a given class.<br>\n",
    "__Setter :__ A method that allows you to set or mutate the value of an attribute in a class.\n"
   ]
  },
  {
   "cell_type": "code",
   "execution_count": 4,
   "id": "9972f637",
   "metadata": {},
   "outputs": [
    {
     "name": "stdout",
     "output_type": "stream",
     "text": [
      "19\n",
      "19\n"
     ]
    }
   ],
   "source": [
    "class Age:\n",
    "    def __init__(self, age = 0):\n",
    "         self._age = age\n",
    "      \n",
    "    # getter method\n",
    "    def get_age(self):\n",
    "        return self._age\n",
    "      \n",
    "    # setter method\n",
    "    def set_age(self, x):\n",
    "        self._age = x\n",
    "        \n",
    "Ankit = Age()\n",
    "  \n",
    "# setting the age using setter\n",
    "Ankit.set_age(19)\n",
    "  \n",
    "# retrieving age using getter\n",
    "print(Ankit.get_age())\n",
    "  \n",
    "print(Ankit._age)"
   ]
  },
  {
   "cell_type": "markdown",
   "id": "729f18bc",
   "metadata": {},
   "source": [
    "# Q5.What is method overriding in python? Write a python code to demonstrate method overriding."
   ]
  },
  {
   "cell_type": "markdown",
   "id": "6e1ffe19",
   "metadata": {},
   "source": [
    "__Ans :__<br>\n",
    "Method overriding is a feature of object-oriented programming languages where the subclass or child class can provide the program with specific characteristics or a specific implementation process of data provided that are already defined in the parent class or superclass.<br><br>\n",
    "\n",
    "When a method in a subclass has the same name, same parameters or signature and same return type(or sub-type) as a method in its super-class, then the method in the subclass is said to override the method in the super-class."
   ]
  },
  {
   "cell_type": "code",
   "execution_count": 5,
   "id": "e31fb582",
   "metadata": {},
   "outputs": [
    {
     "name": "stdout",
     "output_type": "stream",
     "text": [
      "Inside Parent\n",
      "Inside Child\n"
     ]
    }
   ],
   "source": [
    "class Parent():\n",
    "      \n",
    "    # Constructor\n",
    "    def __init__(self):\n",
    "        self.value = \"Inside Parent\"\n",
    "          \n",
    "    # Parent's show method\n",
    "    def show(self):\n",
    "        print(self.value)\n",
    "          \n",
    "# Defining child class\n",
    "class Child(Parent):\n",
    "      \n",
    "    # Constructor\n",
    "    def __init__(self):\n",
    "        self.value = \"Inside Child\"\n",
    "          \n",
    "    # Child's show method\n",
    "    def show(self):\n",
    "        print(self.value)\n",
    "\n",
    "        \n",
    "# Driver's code\n",
    "obj1 = Parent()\n",
    "obj2 = Child()\n",
    "  \n",
    "obj1.show()\n",
    "obj2.show()"
   ]
  },
  {
   "cell_type": "code",
   "execution_count": null,
   "id": "e94d6398",
   "metadata": {},
   "outputs": [],
   "source": []
  }
 ],
 "metadata": {
  "kernelspec": {
   "display_name": "Python 3 (ipykernel)",
   "language": "python",
   "name": "python3"
  },
  "language_info": {
   "codemirror_mode": {
    "name": "ipython",
    "version": 3
   },
   "file_extension": ".py",
   "mimetype": "text/x-python",
   "name": "python",
   "nbconvert_exporter": "python",
   "pygments_lexer": "ipython3",
   "version": "3.9.7"
  }
 },
 "nbformat": 4,
 "nbformat_minor": 5
}
